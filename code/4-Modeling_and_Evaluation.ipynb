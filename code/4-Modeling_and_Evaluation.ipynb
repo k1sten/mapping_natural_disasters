{
 "cells": [
  {
   "cell_type": "markdown",
   "metadata": {},
   "source": [
    "# Project 5 - Leveraging Social Media to Map Natural Disasters\n",
    "## Modeling and Evaluation"
   ]
  },
  {
   "cell_type": "markdown",
   "metadata": {},
   "source": [
    "Notebook 4 covers the preprocessing, modeling, and evaluation steps of the process."
   ]
  },
  {
   "cell_type": "markdown",
   "metadata": {},
   "source": [
    "## Table of Contents\n",
    "\n",
    " 1. [Imports](#Imports)\n",
    " 2. [Reading Data](#Reading-Data)\n",
    " 3. [Preprocessing](#Preprocessing)\n",
    " 4. [Modeling](#Modeling)\n",
    "     1. [Final Model](#Final-Model)\n",
    " 5. [Model Analysis](#Model-Analysis)\n",
    "     1. [Compiled Scores](#Compiled-Scores)\n",
    "     1. [Confusion Matrix](#Confusion-Matrix)"
   ]
  },
  {
   "cell_type": "markdown",
   "metadata": {},
   "source": [
    "## Imports"
   ]
  },
  {
   "cell_type": "code",
   "execution_count": 172,
   "metadata": {},
   "outputs": [],
   "source": [
    "# imports\n",
    "import pandas as pd\n",
    "import numpy as np\n",
    "from bs4 import BeautifulSoup             \n",
    "from sklearn.model_selection import train_test_split, GridSearchCV\n",
    "from sklearn.feature_extraction.text import CountVectorizer, TfidfVectorizer\n",
    "from sklearn.linear_model import LogisticRegression\n",
    "from sklearn.tree import DecisionTreeClassifier\n",
    "from sklearn.ensemble import BaggingClassifier, RandomForestClassifier, AdaBoostClassifier\n",
    "from sklearn.svm import SVC\n",
    "from sklearn.pipeline import Pipeline\n",
    "from sklearn import metrics\n",
    "from sklearn.metrics import confusion_matrix\n",
    "from nltk.stem import WordNetLemmatizer\n",
    "from nltk.stem.porter import PorterStemmer\n",
    "from nltk.tokenize import RegexpTokenizer\n",
    "from nltk.corpus import stopwords\n",
    "import regex as re\n",
    "import matplotlib.pyplot as plt\n",
    "import seaborn as sns"
   ]
  },
  {
   "cell_type": "markdown",
   "metadata": {},
   "source": [
    "## Reading Data"
   ]
  },
  {
   "cell_type": "markdown",
   "metadata": {},
   "source": [
    "We are going to pull in the final cleaned dataset from the previous steps. It shouldn't need any changes, but it is always good to check out the data before doing anything with it."
   ]
  },
  {
   "cell_type": "code",
   "execution_count": 15,
   "metadata": {},
   "outputs": [
    {
     "data": {
      "text/html": [
       "<div>\n",
       "<style scoped>\n",
       "    .dataframe tbody tr th:only-of-type {\n",
       "        vertical-align: middle;\n",
       "    }\n",
       "\n",
       "    .dataframe tbody tr th {\n",
       "        vertical-align: top;\n",
       "    }\n",
       "\n",
       "    .dataframe thead th {\n",
       "        text-align: right;\n",
       "    }\n",
       "</style>\n",
       "<table border=\"1\" class=\"dataframe\">\n",
       "  <thead>\n",
       "    <tr style=\"text-align: right;\">\n",
       "      <th></th>\n",
       "      <th>index</th>\n",
       "      <th>is_retweet</th>\n",
       "      <th>likes</th>\n",
       "      <th>replies</th>\n",
       "      <th>retweets</th>\n",
       "      <th>text</th>\n",
       "      <th>tweet_url</th>\n",
       "      <th>type</th>\n",
       "      <th>target</th>\n",
       "      <th>latitude</th>\n",
       "      <th>longitude</th>\n",
       "    </tr>\n",
       "  </thead>\n",
       "  <tbody>\n",
       "    <tr>\n",
       "      <th>0</th>\n",
       "      <td>0</td>\n",
       "      <td>0.0</td>\n",
       "      <td>1</td>\n",
       "      <td>0.0</td>\n",
       "      <td>0.0</td>\n",
       "      <td>praying for yall in texas! #hurricaneharvey</td>\n",
       "      <td>/RedSoxNation52/status/901232720713469952</td>\n",
       "      <td>hurricane</td>\n",
       "      <td>0</td>\n",
       "      <td>29.622699</td>\n",
       "      <td>-95.243400</td>\n",
       "    </tr>\n",
       "    <tr>\n",
       "      <th>1</th>\n",
       "      <td>1</td>\n",
       "      <td>0.0</td>\n",
       "      <td>1</td>\n",
       "      <td>0.0</td>\n",
       "      <td>3.0</td>\n",
       "      <td>fyi #hurricaneharvey</td>\n",
       "      <td>/nataliereyy/status/901232720088637446</td>\n",
       "      <td>hurricane</td>\n",
       "      <td>0</td>\n",
       "      <td>30.067612</td>\n",
       "      <td>-95.696869</td>\n",
       "    </tr>\n",
       "    <tr>\n",
       "      <th>2</th>\n",
       "      <td>2</td>\n",
       "      <td>0.0</td>\n",
       "      <td>1</td>\n",
       "      <td>0.0</td>\n",
       "      <td>0.0</td>\n",
       "      <td>my prayers goes to everyone in texas being aff...</td>\n",
       "      <td>/sothiachhoeum2/status/901232719312670720</td>\n",
       "      <td>hurricane</td>\n",
       "      <td>0</td>\n",
       "      <td>29.898720</td>\n",
       "      <td>-95.837471</td>\n",
       "    </tr>\n",
       "    <tr>\n",
       "      <th>3</th>\n",
       "      <td>3</td>\n",
       "      <td>0.0</td>\n",
       "      <td>11</td>\n",
       "      <td>2.0</td>\n",
       "      <td>1.0</td>\n",
       "      <td>#hurricaneharvey is coming we are bunkering do...</td>\n",
       "      <td>/tayslade/status/901232707455389696</td>\n",
       "      <td>hurricane</td>\n",
       "      <td>0</td>\n",
       "      <td>29.795760</td>\n",
       "      <td>-95.285158</td>\n",
       "    </tr>\n",
       "    <tr>\n",
       "      <th>4</th>\n",
       "      <td>4</td>\n",
       "      <td>0.0</td>\n",
       "      <td>0</td>\n",
       "      <td>0.0</td>\n",
       "      <td>0.0</td>\n",
       "      <td>jim cantore is wearing a modded out baseball h...</td>\n",
       "      <td>/RebeccaBennitt/status/901232706247417856</td>\n",
       "      <td>hurricane</td>\n",
       "      <td>0</td>\n",
       "      <td>29.453960</td>\n",
       "      <td>-94.826653</td>\n",
       "    </tr>\n",
       "  </tbody>\n",
       "</table>\n",
       "</div>"
      ],
      "text/plain": [
       "   index  is_retweet  likes  replies  retweets  \\\n",
       "0      0         0.0      1      0.0       0.0   \n",
       "1      1         0.0      1      0.0       3.0   \n",
       "2      2         0.0      1      0.0       0.0   \n",
       "3      3         0.0     11      2.0       1.0   \n",
       "4      4         0.0      0      0.0       0.0   \n",
       "\n",
       "                                                text  \\\n",
       "0        praying for yall in texas! #hurricaneharvey   \n",
       "1                              fyi #hurricaneharvey    \n",
       "2  my prayers goes to everyone in texas being aff...   \n",
       "3  #hurricaneharvey is coming we are bunkering do...   \n",
       "4  jim cantore is wearing a modded out baseball h...   \n",
       "\n",
       "                                   tweet_url       type  target   latitude  \\\n",
       "0  /RedSoxNation52/status/901232720713469952  hurricane       0  29.622699   \n",
       "1     /nataliereyy/status/901232720088637446  hurricane       0  30.067612   \n",
       "2  /sothiachhoeum2/status/901232719312670720  hurricane       0  29.898720   \n",
       "3        /tayslade/status/901232707455389696  hurricane       0  29.795760   \n",
       "4  /RebeccaBennitt/status/901232706247417856  hurricane       0  29.453960   \n",
       "\n",
       "   longitude  \n",
       "0 -95.243400  \n",
       "1 -95.696869  \n",
       "2 -95.837471  \n",
       "3 -95.285158  \n",
       "4 -94.826653  "
      ]
     },
     "execution_count": 15,
     "metadata": {},
     "output_type": "execute_result"
    }
   ],
   "source": [
    "df = pd.read_csv('../data/clean_df.csv')\n",
    "df.head()"
   ]
  },
  {
   "cell_type": "code",
   "execution_count": 16,
   "metadata": {},
   "outputs": [
    {
     "data": {
      "text/plain": [
       "index         0\n",
       "is_retweet    0\n",
       "likes         0\n",
       "replies       0\n",
       "retweets      0\n",
       "text          0\n",
       "tweet_url     0\n",
       "type          0\n",
       "target        0\n",
       "latitude      0\n",
       "longitude     0\n",
       "dtype: int64"
      ]
     },
     "execution_count": 16,
     "metadata": {},
     "output_type": "execute_result"
    }
   ],
   "source": [
    "# double checking for nulls\n",
    "df.isnull().sum()"
   ]
  },
  {
   "cell_type": "markdown",
   "metadata": {},
   "source": [
    "## Preprocessing"
   ]
  },
  {
   "cell_type": "markdown",
   "metadata": {},
   "source": [
    "We're going to create a custom list of stop words so we can remove some of the words that were showing up in both of our positive and negative classes. These include the words that were originally used to scrape the posts from Twitter, so obviously they would be in every one of our posts."
   ]
  },
  {
   "cell_type": "code",
   "execution_count": 17,
   "metadata": {},
   "outputs": [],
   "source": [
    "cust_list = ['flood', 'floods', 'flooding', 'hurricaneharvey', 'tornado', 'noreaster', 'mudslide', 'montecito', 'mudslides',\n",
    "             'i', 'me', 'my', 'myself', 'we', 'our', 'ours', 'ourselves', 'you', \n",
    "              \"you're\", \"you've\", \"you'll\", \"you'd\", 'your', 'yours', 'yourself', \n",
    "              'yourselves', 'he', 'him', 'his', 'himself', 'she', \"she's\", 'her', \n",
    "              'hers', 'herself', 'it', \"it's\", 'its', 'itself', 'they', 'them', \n",
    "              'their', 'theirs', 'themselves', 'what', 'which', 'who', 'whom', 'this', \n",
    "              'that', \"that'll\", 'these', 'those', 'am', 'is', 'are', 'was', 'were', \n",
    "              'be', 'been', 'being', 'have', 'has', 'had', 'having', 'do', 'does', \n",
    "              'did', 'doing', 'a', 'an', 'the', 'and', 'but', 'if', 'or', 'because', \n",
    "              'as', 'until', 'while', 'of', 'at', 'by', 'for', 'with', 'about', 'against', \n",
    "              'between', 'into', 'through', 'during', 'before', 'after', 'above', 'below', \n",
    "              'to', 'from', 'up', 'down', 'in', 'out', 'on', 'off', 'over', 'under', 'again', \n",
    "              'further', 'then', 'once', 'here', 'there', 'when', 'where', 'why', 'how', 'all', \n",
    "              'any', 'both', 'each', 'few', 'more', 'most', 'other', 'some', 'such', 'no', 'nor',\n",
    "              'not', 'only', 'own', 'same', 'so', 'than', 'too', 'very', 's', 't', 'can', 'will',\n",
    "              'just', 'don', \"don't\", 'should', \"should've\", 'now', 'd', 'll', 'm', 'o', 're', 've',\n",
    "              'y', 'ain', 'aren', \"aren't\", 'couldn', \"couldn't\", 'didn', \"didn't\", 'doesn', \"doesn't\",\n",
    "              'hadn', \"hadn't\", 'hasn', \"hasn't\", 'haven', \"haven't\", 'isn', \"isn't\", 'ma', 'mightn',\n",
    "              \"mightn't\", 'mustn', \"mustn't\", 'needn', \"needn't\", 'shan', \"shan't\", 'shouldn', \n",
    "              \"shouldn't\", 'wasn', \"wasn't\", 'weren', \"weren't\", 'won', \"won't\", 'wouldn', \"wouldn't\"]"
   ]
  },
  {
   "cell_type": "code",
   "execution_count": 18,
   "metadata": {},
   "outputs": [],
   "source": [
    "# making X, y and train/test split\n",
    "X = df[\"text\"]\n",
    "y = df[\"target\"]\n",
    "\n",
    "X_train, X_test, y_train, y_test = train_test_split(X, y, random_state=42, stratify=y)"
   ]
  },
  {
   "cell_type": "markdown",
   "metadata": {},
   "source": [
    "## Modeling"
   ]
  },
  {
   "cell_type": "markdown",
   "metadata": {},
   "source": [
    "The modeling process is going to include using GridSearchCV and Pipelines to search through many parameters of different modeling techniques at once. In order to make this process flow better, we are going to make a custom function that will run the gridsearch on the established parameters for each model.\n",
    "\n",
    "Because of the nature of this project, we are going to target recall, or sensivity, as the optimizing metric, instead of accuracy. This is because we want to limit the number of false negatives, or situations where someone is tweeting that they are in need of help, but the model does not recognize it, and first responders are not sent out to that person."
   ]
  },
  {
   "cell_type": "code",
   "execution_count": 19,
   "metadata": {},
   "outputs": [],
   "source": [
    "def pipe_searcher(pipe, params):\n",
    "    gs = GridSearchCV(estimator=pipe, param_grid=params, cv=2, verbose=1, n_jobs=-1, scoring=\"recall\")\n",
    "    gs.fit(X_train, y_train)\n",
    "    print(f'CrossVal Score: {gs.best_score_}')\n",
    "    print(f'Training Score: {gs.score(X_train, y_train)}')\n",
    "    print(f'Testing Score: {gs.score(X_test, y_test)}')\n",
    "    print(gs.best_params_)\n",
    "    return gs"
   ]
  },
  {
   "cell_type": "code",
   "execution_count": 20,
   "metadata": {},
   "outputs": [],
   "source": [
    "# Instantiate a pipe for logistic regression and CountVectorizer\n",
    "lr_pipe = Pipeline([('cvec', CountVectorizer(stop_words=cust_list)), ('lr', LogisticRegression())])\n",
    "lr_params = {\n",
    "    'cvec__max_features': [10_000, 20_000, 40_000, None],\n",
    "    'cvec__ngram_range': [(1,1), (1,2)],\n",
    "    'cvec__max_df': [0.5, 0.8, 1.0],\n",
    "    'lr__C' : [10, 20, 40],\n",
    "    'lr__penalty': ['l1', 'l2']\n",
    "}"
   ]
  },
  {
   "cell_type": "code",
   "execution_count": 21,
   "metadata": {},
   "outputs": [
    {
     "name": "stdout",
     "output_type": "stream",
     "text": [
      "Fitting 2 folds for each of 192 candidates, totalling 384 fits\n"
     ]
    },
    {
     "name": "stderr",
     "output_type": "stream",
     "text": [
      "[Parallel(n_jobs=-1)]: Using backend LokyBackend with 4 concurrent workers.\n",
      "[Parallel(n_jobs=-1)]: Done  42 tasks      | elapsed:   19.5s\n",
      "[Parallel(n_jobs=-1)]: Done 192 tasks      | elapsed:  1.2min\n",
      "[Parallel(n_jobs=-1)]: Done 384 out of 384 | elapsed:  2.2min finished\n",
      "/Users/jondov/anaconda3/envs/dsi/lib/python3.7/site-packages/sklearn/linear_model/logistic.py:432: FutureWarning: Default solver will be changed to 'lbfgs' in 0.22. Specify a solver to silence this warning.\n",
      "  FutureWarning)\n"
     ]
    },
    {
     "name": "stdout",
     "output_type": "stream",
     "text": [
      "CrossVal Score: 0.912172340224186\n",
      "Training Score: 0.9981829194427619\n",
      "Testing Score: 0.8856624319419237\n",
      "{'cvec__max_df': 0.5, 'cvec__max_features': 20000, 'cvec__ngram_range': (1, 2), 'lr__C': 40, 'lr__penalty': 'l1'}\n"
     ]
    }
   ],
   "source": [
    "# running lr model\n",
    "lr_model = pipe_searcher(lr_pipe, lr_params)"
   ]
  },
  {
   "cell_type": "markdown",
   "metadata": {},
   "source": [
    "This model seems to be very overfit, so another model type may perform better. KNN is not typically great with NLP, so we will move on to a decision tree model."
   ]
  },
  {
   "cell_type": "code",
   "execution_count": 28,
   "metadata": {},
   "outputs": [],
   "source": [
    "# Instantiate a pipe for CountVectorizer and Decision Tree\n",
    "dt_pipe = Pipeline([('cvec', CountVectorizer()), ('dt', DecisionTreeClassifier(random_state=42))])\n",
    "dt_params = {\n",
    "    'cvec__max_features': [25_000, 35_000, 40_000, None],\n",
    "    'cvec__ngram_range': [(1,1), (1,2), (2, 2)],\n",
    "    'cvec__max_df': [0.5, 0.8, 1.0],\n",
    "    'dt__min_samples_leaf' : [2, 5, 10],\n",
    "    'dt__max_depth': [25, 50, 75]\n",
    "}"
   ]
  },
  {
   "cell_type": "code",
   "execution_count": 29,
   "metadata": {},
   "outputs": [
    {
     "name": "stdout",
     "output_type": "stream",
     "text": [
      "Fitting 2 folds for each of 324 candidates, totalling 648 fits\n"
     ]
    },
    {
     "name": "stderr",
     "output_type": "stream",
     "text": [
      "[Parallel(n_jobs=-1)]: Using backend LokyBackend with 4 concurrent workers.\n",
      "[Parallel(n_jobs=-1)]: Done  42 tasks      | elapsed:   22.3s\n",
      "[Parallel(n_jobs=-1)]: Done 192 tasks      | elapsed:  1.7min\n",
      "[Parallel(n_jobs=-1)]: Done 442 tasks      | elapsed:  4.0min\n",
      "[Parallel(n_jobs=-1)]: Done 648 out of 648 | elapsed: 11.6min finished\n"
     ]
    },
    {
     "name": "stdout",
     "output_type": "stream",
     "text": [
      "CrossVal Score: 0.8964225267826049\n",
      "Training Score: 0.9521502119927316\n",
      "Testing Score: 0.8929219600725953\n",
      "{'cvec__max_df': 0.5, 'cvec__max_features': None, 'cvec__ngram_range': (1, 2), 'dt__max_depth': 75, 'dt__min_samples_leaf': 2}\n"
     ]
    }
   ],
   "source": [
    "# running dt model\n",
    "dt_model = pipe_searcher(pipe=dt_pipe, params=dt_params)"
   ]
  },
  {
   "cell_type": "markdown",
   "metadata": {},
   "source": [
    "We are still seeing a large amount of overfit, which is common for basic decision trees. An ensemble model should help to even this out."
   ]
  },
  {
   "cell_type": "code",
   "execution_count": 30,
   "metadata": {},
   "outputs": [],
   "source": [
    "# Instantiate a pipe for CountVectorizer and random forest model\n",
    "rf_pipe = Pipeline([('cvec', CountVectorizer()), ('rf', RandomForestClassifier(random_state=42))])\n",
    "rf_params = {\n",
    "    'cvec__max_features': [25_000, 35_000, 40_000, None],\n",
    "    'cvec__ngram_range': [(1,1), (1,2), (2, 2)],\n",
    "    'cvec__max_df': [0.5, 0.8, 1.0],\n",
    "    'rf__n_estimators' : [20, 30, 50],\n",
    "    'rf__min_samples_leaf': [2, 5, 10, 50],\n",
    "}"
   ]
  },
  {
   "cell_type": "code",
   "execution_count": 31,
   "metadata": {},
   "outputs": [
    {
     "name": "stdout",
     "output_type": "stream",
     "text": [
      "Fitting 2 folds for each of 432 candidates, totalling 864 fits\n"
     ]
    },
    {
     "name": "stderr",
     "output_type": "stream",
     "text": [
      "[Parallel(n_jobs=-1)]: Using backend LokyBackend with 4 concurrent workers.\n",
      "[Parallel(n_jobs=-1)]: Done  42 tasks      | elapsed:   26.4s\n",
      "[Parallel(n_jobs=-1)]: Done 192 tasks      | elapsed:  1.8min\n",
      "[Parallel(n_jobs=-1)]: Done 442 tasks      | elapsed:  4.1min\n",
      "[Parallel(n_jobs=-1)]: Done 792 tasks      | elapsed: 15.4min\n",
      "[Parallel(n_jobs=-1)]: Done 864 out of 864 | elapsed: 16.1min finished\n"
     ]
    },
    {
     "name": "stdout",
     "output_type": "stream",
     "text": [
      "CrossVal Score: 0.749223851162298\n",
      "Training Score: 0.9079345850999394\n",
      "Testing Score: 0.8439201451905626\n",
      "{'cvec__max_df': 0.5, 'cvec__max_features': 25000, 'cvec__ngram_range': (1, 2), 'rf__min_samples_leaf': 2, 'rf__n_estimators': 20}\n"
     ]
    }
   ],
   "source": [
    "# running rf model\n",
    "rf_model = pipe_searcher(pipe=rf_pipe, params=rf_params)"
   ]
  },
  {
   "cell_type": "markdown",
   "metadata": {},
   "source": [
    "The overfit has been successfully reduced by using a random forest model, but now the recall scores have both taken a significant hit. The adaptive boosting model could be heplful in this situation."
   ]
  },
  {
   "cell_type": "code",
   "execution_count": 32,
   "metadata": {},
   "outputs": [],
   "source": [
    "# Instantiate a pipe for CountVectorizer and adaboost model\n",
    "ada_pipe = Pipeline([('cvec', CountVectorizer()), ('ada', AdaBoostClassifier(random_state=42))])\n",
    "ada_params = {\n",
    "    'cvec__max_features': [20_000, 40_000, 60_000, None],\n",
    "    'cvec__ngram_range': [(1,1), (1,2), (2, 2)],\n",
    "    'cvec__max_df': [0.5, 0.8, 1.0],\n",
    "    'ada__n_estimators' : [20, 50, 100],\n",
    "}"
   ]
  },
  {
   "cell_type": "code",
   "execution_count": 33,
   "metadata": {},
   "outputs": [
    {
     "name": "stdout",
     "output_type": "stream",
     "text": [
      "Fitting 2 folds for each of 108 candidates, totalling 216 fits\n"
     ]
    },
    {
     "name": "stderr",
     "output_type": "stream",
     "text": [
      "[Parallel(n_jobs=-1)]: Using backend LokyBackend with 4 concurrent workers.\n",
      "[Parallel(n_jobs=-1)]: Done  42 tasks      | elapsed:   22.5s\n",
      "[Parallel(n_jobs=-1)]: Done 192 tasks      | elapsed:  2.8min\n",
      "[Parallel(n_jobs=-1)]: Done 216 out of 216 | elapsed:  3.4min finished\n"
     ]
    },
    {
     "name": "stdout",
     "output_type": "stream",
     "text": [
      "CrossVal Score: 0.9145921528835961\n",
      "Training Score: 0.9357964869775893\n",
      "Testing Score: 0.8911070780399274\n",
      "{'ada__n_estimators': 100, 'cvec__max_df': 0.5, 'cvec__max_features': None, 'cvec__ngram_range': (1, 2)}\n"
     ]
    }
   ],
   "source": [
    "# running ada model\n",
    "ada_model = pipe_searcher(pipe=ada_pipe, params=ada_params)"
   ]
  },
  {
   "cell_type": "code",
   "execution_count": 49,
   "metadata": {},
   "outputs": [
    {
     "data": {
      "text/plain": [
       "AdaBoostClassifier(algorithm='SAMME.R', base_estimator=None, learning_rate=1.0,\n",
       "                   n_estimators=50, random_state=42)"
      ]
     },
     "execution_count": 49,
     "metadata": {},
     "output_type": "execute_result"
    }
   ],
   "source": [
    "ada_model.estimator.steps[1][1]"
   ]
  },
  {
   "cell_type": "markdown",
   "metadata": {},
   "source": [
    "### Final Model"
   ]
  },
  {
   "cell_type": "markdown",
   "metadata": {},
   "source": [
    "Most of the models were severely overfit to our training data. However, using the Adaptive Boosting classifier, we were able to reduce the level of overfit, and find a relative balance between bias and variance.\n",
    "\n",
    "In order to have access to some of the model attributes, we are going to create a new standalone version of our best model parameters."
   ]
  },
  {
   "cell_type": "code",
   "execution_count": 36,
   "metadata": {},
   "outputs": [
    {
     "data": {
      "text/plain": [
       "{'ada__n_estimators': 100,\n",
       " 'cvec__max_df': 0.5,\n",
       " 'cvec__max_features': None,\n",
       " 'cvec__ngram_range': (1, 2)}"
      ]
     },
     "execution_count": 36,
     "metadata": {},
     "output_type": "execute_result"
    }
   ],
   "source": [
    "# pulling up best parameters\n",
    "ada_model.best_params_"
   ]
  },
  {
   "cell_type": "code",
   "execution_count": 38,
   "metadata": {},
   "outputs": [
    {
     "data": {
      "text/plain": [
       "AdaBoostClassifier(algorithm='SAMME.R', base_estimator=None, learning_rate=1.0,\n",
       "                   n_estimators=100, random_state=None)"
      ]
     },
     "execution_count": 38,
     "metadata": {},
     "output_type": "execute_result"
    }
   ],
   "source": [
    "# fitting best cvec params\n",
    "cvec = CountVectorizer(stop_words=cust_list, max_features=None, ngram_range=(1, 2), max_df=0.5)\n",
    "X_train_vec = cvec.fit_transform(X_train)\n",
    "X_test_vec = cvec.transform(X_test)\n",
    "\n",
    "# fitting log reg\n",
    "final_ada_model = AdaBoostClassifier(n_estimators=100)\n",
    "final_ada_model.fit(X_train_vec, y_train)"
   ]
  },
  {
   "cell_type": "code",
   "execution_count": null,
   "metadata": {},
   "outputs": [],
   "source": [
    "final_ada_model.score()"
   ]
  },
  {
   "cell_type": "markdown",
   "metadata": {},
   "source": [
    "## Model Analysis"
   ]
  },
  {
   "cell_type": "markdown",
   "metadata": {},
   "source": [
    "Due to the nature of this project, we want to minimize cases where someone is tweeting that they are in need of help, but this fact is not recognized by the model. The metric we can use for this evaluation is recall, or sensitivity.\n",
    "\n",
    "To get an idea of how well we have achieved out goal with this classificaiton model, we need to start with a baseline model. This would be nothing more than taking the most common class, and always predicting that."
   ]
  },
  {
   "cell_type": "code",
   "execution_count": 171,
   "metadata": {},
   "outputs": [
    {
     "data": {
      "text/plain": [
       "0    0.903683\n",
       "1    0.096317\n",
       "Name: target, dtype: float64"
      ]
     },
     "execution_count": 171,
     "metadata": {},
     "output_type": "execute_result"
    }
   ],
   "source": [
    "# pulling up class percentages\n",
    "df[\"target\"].value_counts(normalize=True)"
   ]
  },
  {
   "cell_type": "markdown",
   "metadata": {},
   "source": [
    "We can clearly see how unbalanced our classes are, with 0 being over 90% of the total dataset. If we were to use this as a model, it would always predict 0 (that a tweet is not an emergency or call for help), and it would actually be correct about 90% of the time. However, since peoples' lives are at stake, we cannot afford to ignore their calls."
   ]
  },
  {
   "cell_type": "markdown",
   "metadata": {},
   "source": [
    "### Compiled Scores"
   ]
  },
  {
   "cell_type": "markdown",
   "metadata": {},
   "source": [
    "Although we can see each model's score from in the above process, it would be good to compile all of the recall scores to better compare them."
   ]
  },
  {
   "cell_type": "code",
   "execution_count": 149,
   "metadata": {},
   "outputs": [
    {
     "data": {
      "text/html": [
       "<div>\n",
       "<style scoped>\n",
       "    .dataframe tbody tr th:only-of-type {\n",
       "        vertical-align: middle;\n",
       "    }\n",
       "\n",
       "    .dataframe tbody tr th {\n",
       "        vertical-align: top;\n",
       "    }\n",
       "\n",
       "    .dataframe thead th {\n",
       "        text-align: right;\n",
       "    }\n",
       "</style>\n",
       "<table border=\"1\" class=\"dataframe\">\n",
       "  <thead>\n",
       "    <tr style=\"text-align: right;\">\n",
       "      <th></th>\n",
       "      <th>train_acc</th>\n",
       "      <th>test_acc</th>\n",
       "      <th>var</th>\n",
       "    </tr>\n",
       "  </thead>\n",
       "  <tbody>\n",
       "    <tr>\n",
       "      <th>ada</th>\n",
       "      <td>0.936</td>\n",
       "      <td>0.891</td>\n",
       "      <td>0.045</td>\n",
       "    </tr>\n",
       "    <tr>\n",
       "      <th>dt</th>\n",
       "      <td>0.952</td>\n",
       "      <td>0.893</td>\n",
       "      <td>0.059</td>\n",
       "    </tr>\n",
       "    <tr>\n",
       "      <th>rf</th>\n",
       "      <td>0.908</td>\n",
       "      <td>0.844</td>\n",
       "      <td>0.064</td>\n",
       "    </tr>\n",
       "    <tr>\n",
       "      <th>lr</th>\n",
       "      <td>0.998</td>\n",
       "      <td>0.886</td>\n",
       "      <td>0.112</td>\n",
       "    </tr>\n",
       "  </tbody>\n",
       "</table>\n",
       "</div>"
      ],
      "text/plain": [
       "     train_acc  test_acc    var\n",
       "ada      0.936     0.891  0.045\n",
       "dt       0.952     0.893  0.059\n",
       "rf       0.908     0.844  0.064\n",
       "lr       0.998     0.886  0.112"
      ]
     },
     "execution_count": 149,
     "metadata": {},
     "output_type": "execute_result"
    }
   ],
   "source": [
    "# pulling in code block from Jeremy's Reddit project\n",
    "\n",
    "# making a df to store everything\n",
    "model_df = pd.DataFrame(index=[f\"{model.estimator.steps[1][0]}\" for model in models])\n",
    "\n",
    "# making a list of our models\n",
    "models = [lr_model, dt_model, rf_model, ada_model]\n",
    "\n",
    "# putting each model variation into the df\n",
    "# model_df[\"model\"] = [f\"{model.estimator.steps[1][0]}\" for model in models]\n",
    "\n",
    "# putting in the training scores\n",
    "model_df[\"train_acc\"] = [round(model.score(X_train, y_train), 3) for model in models]\n",
    "\n",
    "# putting in the testing scores\n",
    "model_df[\"test_acc\"] = [round(model.score(X_test, y_test), 3) for model in models]\n",
    "\n",
    "# getting the difference, or variance, between each score\n",
    "model_df[\"var\"] = model_df[\"train_acc\"] - model_df[\"test_acc\"]\n",
    "\n",
    "# checking the final dataframe\n",
    "model_df.sort_values(by=\"var\")"
   ]
  },
  {
   "cell_type": "code",
   "execution_count": 170,
   "metadata": {},
   "outputs": [
    {
     "data": {
      "text/plain": [
       "Text(0.5, 0, 'Model Name')"
      ]
     },
     "execution_count": 170,
     "metadata": {},
     "output_type": "execute_result"
    },
    {
     "data": {
      "image/png": "[encoded data removed]",
      "text/plain": [
       "<Figure size 648x432 with 1 Axes>"
      ]
     },
     "metadata": {
      "needs_background": "light"
     },
     "output_type": "display_data"
    }
   ],
   "source": [
    "model_df[[\"train_acc\", \"test_acc\"]].plot(kind=\"bar\",\n",
    "                                        figsize=(9, 6),\n",
    "                                        rot=0)\n",
    "plt.title(\"Recall Scores by Model\", size=20)\n",
    "plt.ylabel(\"Score\", size=15)\n",
    "plt.xlabel(\"Model Name\", size=15)"
   ]
  },
  {
   "cell_type": "markdown",
   "metadata": {},
   "source": [
    "Sorting the matrix by lowest variance shows that the final AdaBoostClassifier was able to give us the closest balance between bias and variance, though the test score was not quite the highest. Visualizing this data into a chart also allows us to see that the tran and test scores for the AdaBoost model were very close to each other.\n",
    "\n",
    "We can also check the overall accuracy of our model, as an additional point of interest."
   ]
  },
  {
   "cell_type": "code",
   "execution_count": 173,
   "metadata": {},
   "outputs": [
    {
     "data": {
      "text/plain": [
       "0.9884534639608118"
      ]
     },
     "execution_count": 173,
     "metadata": {},
     "output_type": "execute_result"
    }
   ],
   "source": [
    "metrics.accuracy_score(y_test, preds)"
   ]
  },
  {
   "cell_type": "markdown",
   "metadata": {},
   "source": [
    "Not only have we been able to optimize our model for low recall, but we have also been able to get a test accuracy of 98.8%, which is a large boost from our base model."
   ]
  },
  {
   "cell_type": "markdown",
   "metadata": {},
   "source": [
    "### Confusion Matrix"
   ]
  },
  {
   "cell_type": "markdown",
   "metadata": {},
   "source": [
    "We have the recall scores of the models, but it would also be nice to see the full count of correct and incorrect classifications. We are going to create a confusion matrix for our finalized model."
   ]
  },
  {
   "cell_type": "code",
   "execution_count": 88,
   "metadata": {},
   "outputs": [],
   "source": [
    "# making test predictions from the ada model\n",
    "preds = final_ada_model.predict(X_test_vec)\n",
    "\n",
    "# creating confusion matrix and setting into df\n",
    "cf = pd.DataFrame(confusion_matrix(y_test, preds),\n",
    "             columns=[\"Predicted Negatives\", \"Predicted Positives\"],\n",
    "             index=[\"Actual Negatives\", \"Actual Positives\"])"
   ]
  },
  {
   "cell_type": "code",
   "execution_count": 90,
   "metadata": {},
   "outputs": [
    {
     "data": {
      "text/html": [
       "<div>\n",
       "<style scoped>\n",
       "    .dataframe tbody tr th:only-of-type {\n",
       "        vertical-align: middle;\n",
       "    }\n",
       "\n",
       "    .dataframe tbody tr th {\n",
       "        vertical-align: top;\n",
       "    }\n",
       "\n",
       "    .dataframe thead th {\n",
       "        text-align: right;\n",
       "    }\n",
       "</style>\n",
       "<table border=\"1\" class=\"dataframe\">\n",
       "  <thead>\n",
       "    <tr style=\"text-align: right;\">\n",
       "      <th></th>\n",
       "      <th>Predicted Negatives</th>\n",
       "      <th>Predicted Positives</th>\n",
       "    </tr>\n",
       "  </thead>\n",
       "  <tbody>\n",
       "    <tr>\n",
       "      <th>Actual Negatives</th>\n",
       "      <td>5161</td>\n",
       "      <td>4</td>\n",
       "    </tr>\n",
       "    <tr>\n",
       "      <th>Actual Positives</th>\n",
       "      <td>62</td>\n",
       "      <td>489</td>\n",
       "    </tr>\n",
       "  </tbody>\n",
       "</table>\n",
       "</div>"
      ],
      "text/plain": [
       "                  Predicted Negatives  Predicted Positives\n",
       "Actual Negatives                 5161                    4\n",
       "Actual Positives                   62                  489"
      ]
     },
     "execution_count": 90,
     "metadata": {},
     "output_type": "execute_result"
    }
   ],
   "source": [
    "# checking df for results\n",
    "cf"
   ]
  },
  {
   "cell_type": "markdown",
   "metadata": {},
   "source": [
    "Here we can see that our model actually had a much higher specificity than sensitivity, as there were very few isntances of false positive classification. While it is certainly never bad to avoid these classficiations, as that means fewer resources wasted on non-emergency situations, it would have been nice to achieve such a low rate for our False Negatives.\n",
    "\n",
    "Unfortunately, the AdaBoost model does not have much in the way of transparency for the purposes of interpetation. We can, however, add one more visualization to analyze performance."
   ]
  },
  {
   "cell_type": "markdown",
   "metadata": {},
   "source": [
    "## ROC Curve"
   ]
  },
  {
   "cell_type": "code",
   "execution_count": 177,
   "metadata": {},
   "outputs": [
    {
     "data": {
      "image/png": "[encoded data removed]",
      "text/plain": [
       "<Figure size 720x504 with 1 Axes>"
      ]
     },
     "metadata": {
      "needs_background": "light"
     },
     "output_type": "display_data"
    }
   ],
   "source": [
    "# bringing in roc curve code from lesson 4.04\n",
    "# making predictions to for the plot\n",
    "pred_proba = [i[1] for i in final_ada_model.predict_proba(X_test_vec)]\n",
    "\n",
    "# putting preds into a df\n",
    "pred_df = pd.DataFrame({'true_values': y_test,\n",
    "                        'pred_probs':pred_proba})\n",
    "# Create figure.\n",
    "plt.figure(figsize = (10,7))\n",
    "\n",
    "# Create threshold values. (Dashed red line in image.)\n",
    "thresholds = np.linspace(0, 1, 200)\n",
    "\n",
    "# Define function to calculate sensitivity. (True positive rate.)\n",
    "def TPR(df, true_col, pred_prob_col, threshold):\n",
    "    true_positive = df[(df[true_col] == 1) & (df[pred_prob_col] >= threshold)].shape[0]\n",
    "    false_negative = df[(df[true_col] == 1) & (df[pred_prob_col] < threshold)].shape[0]\n",
    "    return true_positive / (true_positive + false_negative)\n",
    "    \n",
    "# Define function to calculate 1 - specificity. (False positive rate.)\n",
    "def FPR(df, true_col, pred_prob_col, threshold):\n",
    "    true_negative = df[(df[true_col] == 0) & (df[pred_prob_col] <= threshold)].shape[0]\n",
    "    false_positive = df[(df[true_col] == 0) & (df[pred_prob_col] > threshold)].shape[0]\n",
    "    return 1 - (true_negative / (true_negative + false_positive))\n",
    "    \n",
    "# Calculate sensitivity & 1-specificity for each threshold between 0 and 1.\n",
    "tpr_values = [TPR(pred_df, 'true_values', 'pred_probs', prob) for prob in thresholds]\n",
    "fpr_values = [FPR(pred_df, 'true_values', 'pred_probs', prob) for prob in thresholds]\n",
    "\n",
    "# Plot ROC curve.\n",
    "plt.plot(fpr_values, # False Positive Rate on X-axis\n",
    "         tpr_values, # True Positive Rate on Y-axis\n",
    "         label='ROC Curve')\n",
    "\n",
    "# Plot baseline. (Perfect overlap between the two populations.)\n",
    "plt.plot(np.linspace(0, 1, 200),\n",
    "         np.linspace(0, 1, 200),\n",
    "         label='baseline',\n",
    "         linestyle='--')\n",
    "\n",
    "# Label axes.\n",
    "plt.title(f'ROC Curve with AUC = {round(metrics.roc_auc_score(pred_df[\"true_values\"], pred_df[\"pred_probs\"]),3)}', fontsize=22)\n",
    "plt.ylabel('Sensitivity', fontsize=18)\n",
    "plt.yticks(np.arange(0.0, 1.1, 0.1))\n",
    "plt.xlabel('1 - Specificity', fontsize=18)\n",
    "plt.xticks(np.arange(0.0, 1.1, 0.1))\n",
    "\n",
    "# Create legend.\n",
    "plt.legend(fontsize=16);"
   ]
  },
  {
   "cell_type": "markdown",
   "metadata": {},
   "source": [
    "Our ROC curve looks nearly perfect, taking on the exact shape we want it to have (climbing straight up Sensitivity, then cutting straight across 1-Specificity). Our AUC, or Area Under the Curve, is quite high as well, at 0.954, close to the ideal scenario of 1.0. With this additional graph, it does appear as though we have optimized this model as much as possible.\n",
    "\n",
    "The next step in the process is to take our positive class tweets, and present them visually so that first repsonders can have an easier time interpreting the situation during disasters. This will be performed in Notebook 5."
   ]
  }
 ],
 "metadata": {
  "kernelspec": {
   "display_name": "Python 3",
   "language": "python",
   "name": "python3"
  },
  "language_info": {
   "codemirror_mode": {
    "name": "ipython",
    "version": 3
   },
   "file_extension": ".py",
   "mimetype": "text/x-python",
   "name": "python",
   "nbconvert_exporter": "python",
   "pygments_lexer": "ipython3",
   "version": "3.7.3"
  }
 },
 "nbformat": 4,
 "nbformat_minor": 2
}
